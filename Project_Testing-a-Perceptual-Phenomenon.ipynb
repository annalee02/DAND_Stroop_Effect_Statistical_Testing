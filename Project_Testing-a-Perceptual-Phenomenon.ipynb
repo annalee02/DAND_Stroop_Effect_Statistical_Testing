{
 "cells": [
  {
   "cell_type": "markdown",
   "metadata": {},
   "source": [
    "# Stroop Effect - Testing a Perceptual Phenomenon\n",
    "## by Anna Lee"
   ]
  },
  {
   "cell_type": "markdown",
   "metadata": {},
   "source": [
    "# Background Information"
   ]
  },
  {
   "cell_type": "markdown",
   "metadata": {},
   "source": [
    "### Statistics: The Science of Decisions \n",
    "In a Stroop task, participants are presented with a list of words, with each word displayed in a color of ink. The participant’s task is to say out loud the color of the ink in which the word is printed. The task has two conditions: a congruent words condition, and an incongruent words condition. In the congruent words condition, the words being displayed are color words whose names match the colors in which they are printed. In the incongruent words condition, the words displayed are color words whose names do not match the colors in which they are printed. In each case, we measure the time it takes to name the ink colors in equally-sized lists. Each participant will go through and record a time from each condition."
   ]
  },
  {
   "cell_type": "markdown",
   "metadata": {},
   "source": [
    "Source: [Interactive Stroop Effect Experiment](https://faculty.washington.edu/chudler/java/ready.html)"
   ]
  },
  {
   "cell_type": "markdown",
   "metadata": {},
   "source": [
    "# Data Overview"
   ]
  },
  {
   "cell_type": "code",
   "execution_count": 1,
   "metadata": {
    "collapsed": false
   },
   "outputs": [
    {
     "data": {
      "text/html": [
       "<div>\n",
       "<table border=\"1\" class=\"dataframe\">\n",
       "  <thead>\n",
       "    <tr style=\"text-align: right;\">\n",
       "      <th></th>\n",
       "      <th>Congruent</th>\n",
       "      <th>Incongruent</th>\n",
       "    </tr>\n",
       "  </thead>\n",
       "  <tbody>\n",
       "    <tr>\n",
       "      <th>0</th>\n",
       "      <td>12.079</td>\n",
       "      <td>19.278</td>\n",
       "    </tr>\n",
       "    <tr>\n",
       "      <th>1</th>\n",
       "      <td>16.791</td>\n",
       "      <td>18.741</td>\n",
       "    </tr>\n",
       "    <tr>\n",
       "      <th>2</th>\n",
       "      <td>9.564</td>\n",
       "      <td>21.214</td>\n",
       "    </tr>\n",
       "    <tr>\n",
       "      <th>3</th>\n",
       "      <td>8.630</td>\n",
       "      <td>15.687</td>\n",
       "    </tr>\n",
       "    <tr>\n",
       "      <th>4</th>\n",
       "      <td>14.669</td>\n",
       "      <td>22.803</td>\n",
       "    </tr>\n",
       "  </tbody>\n",
       "</table>\n",
       "</div>"
      ],
      "text/plain": [
       "   Congruent  Incongruent\n",
       "0     12.079       19.278\n",
       "1     16.791       18.741\n",
       "2      9.564       21.214\n",
       "3      8.630       15.687\n",
       "4     14.669       22.803"
      ]
     },
     "execution_count": 1,
     "metadata": {},
     "output_type": "execute_result"
    }
   ],
   "source": [
    "# Import packages\n",
    "import os\n",
    "import pandas as pd\n",
    "import matplotlib.pyplot as plt\n",
    "import numpy as np\n",
    "# Load a dataset\n",
    "path = os.getcwd()\n",
    "stroopdata = pd.read_csv(path + \"/stroopdata.csv\")\n",
    "stroopdata.head()"
   ]
  },
  {
   "cell_type": "markdown",
   "metadata": {},
   "source": [
    "The dataset contains 2 columns and each of them has 24 values. <br>\n",
    "The values are specified in seconds."
   ]
  },
  {
   "cell_type": "code",
   "execution_count": 2,
   "metadata": {
    "collapsed": false
   },
   "outputs": [
    {
     "name": "stdout",
     "output_type": "stream",
     "text": [
      "<class 'pandas.core.frame.DataFrame'>\n",
      "RangeIndex: 24 entries, 0 to 23\n",
      "Data columns (total 2 columns):\n",
      "Congruent      24 non-null float64\n",
      "Incongruent    24 non-null float64\n",
      "dtypes: float64(2)\n",
      "memory usage: 464.0 bytes\n"
     ]
    }
   ],
   "source": [
    "stroopdata.info()"
   ]
  },
  {
   "cell_type": "markdown",
   "metadata": {},
   "source": [
    "One more column, __Difference(C-I)__ is added to see the difference between congruent and Incongruent values."
   ]
  },
  {
   "cell_type": "code",
   "execution_count": 3,
   "metadata": {
    "collapsed": false
   },
   "outputs": [
    {
     "data": {
      "text/html": [
       "<div>\n",
       "<table border=\"1\" class=\"dataframe\">\n",
       "  <thead>\n",
       "    <tr style=\"text-align: right;\">\n",
       "      <th></th>\n",
       "      <th>Congruent</th>\n",
       "      <th>Incongruent</th>\n",
       "      <th>Difference(C-I)</th>\n",
       "    </tr>\n",
       "  </thead>\n",
       "  <tbody>\n",
       "    <tr>\n",
       "      <th>0</th>\n",
       "      <td>12.079</td>\n",
       "      <td>19.278</td>\n",
       "      <td>-7.199</td>\n",
       "    </tr>\n",
       "    <tr>\n",
       "      <th>1</th>\n",
       "      <td>16.791</td>\n",
       "      <td>18.741</td>\n",
       "      <td>-1.950</td>\n",
       "    </tr>\n",
       "    <tr>\n",
       "      <th>2</th>\n",
       "      <td>9.564</td>\n",
       "      <td>21.214</td>\n",
       "      <td>-11.650</td>\n",
       "    </tr>\n",
       "    <tr>\n",
       "      <th>3</th>\n",
       "      <td>8.630</td>\n",
       "      <td>15.687</td>\n",
       "      <td>-7.057</td>\n",
       "    </tr>\n",
       "    <tr>\n",
       "      <th>4</th>\n",
       "      <td>14.669</td>\n",
       "      <td>22.803</td>\n",
       "      <td>-8.134</td>\n",
       "    </tr>\n",
       "    <tr>\n",
       "      <th>5</th>\n",
       "      <td>12.238</td>\n",
       "      <td>20.878</td>\n",
       "      <td>-8.640</td>\n",
       "    </tr>\n",
       "    <tr>\n",
       "      <th>6</th>\n",
       "      <td>14.692</td>\n",
       "      <td>24.572</td>\n",
       "      <td>-9.880</td>\n",
       "    </tr>\n",
       "    <tr>\n",
       "      <th>7</th>\n",
       "      <td>8.987</td>\n",
       "      <td>17.394</td>\n",
       "      <td>-8.407</td>\n",
       "    </tr>\n",
       "    <tr>\n",
       "      <th>8</th>\n",
       "      <td>9.401</td>\n",
       "      <td>20.762</td>\n",
       "      <td>-11.361</td>\n",
       "    </tr>\n",
       "    <tr>\n",
       "      <th>9</th>\n",
       "      <td>14.480</td>\n",
       "      <td>26.282</td>\n",
       "      <td>-11.802</td>\n",
       "    </tr>\n",
       "  </tbody>\n",
       "</table>\n",
       "</div>"
      ],
      "text/plain": [
       "   Congruent  Incongruent  Difference(C-I)\n",
       "0     12.079       19.278           -7.199\n",
       "1     16.791       18.741           -1.950\n",
       "2      9.564       21.214          -11.650\n",
       "3      8.630       15.687           -7.057\n",
       "4     14.669       22.803           -8.134\n",
       "5     12.238       20.878           -8.640\n",
       "6     14.692       24.572           -9.880\n",
       "7      8.987       17.394           -8.407\n",
       "8      9.401       20.762          -11.361\n",
       "9     14.480       26.282          -11.802"
      ]
     },
     "execution_count": 3,
     "metadata": {},
     "output_type": "execute_result"
    }
   ],
   "source": [
    "stroopdata['Difference(C-I)'] = stroopdata['Congruent'] - stroopdata['Incongruent']\n",
    "stroopdata.head(10)"
   ]
  },
  {
   "cell_type": "markdown",
   "metadata": {},
   "source": [
    "Values in __Difference(C-I)__ column are negative because participants took more time to read incongruent words."
   ]
  },
  {
   "cell_type": "markdown",
   "metadata": {},
   "source": [
    "# Questions For Investigation"
   ]
  },
  {
   "cell_type": "markdown",
   "metadata": {},
   "source": [
    "## 1. What is our independent variable? What is our dependent variable?\n",
    "* Independent variable: Congruency - whether a word being displayed match its font color or not\n",
    "* Dependent variable: Time - The amount of time it takes for a participant to read the list of words"
   ]
  },
  {
   "cell_type": "markdown",
   "metadata": {},
   "source": [
    "## 2. What is an appropriate set of hypotheses for this task? What kind of statistical test do you expect to perform? Justify your choices.\n",
    "### Hypotheses\n",
    "\n",
    "$\\mu_{1}$: The mean of time spent for the congruent test<br>\n",
    "$\\mu_{2}$: The mean of time spent for the incongruent test<br><br>\n",
    "\n",
    "$H_{0}$ : $\\mu_{1}$ - $\\mu_{2}$ = 0<br>\n",
    "$H_{A}$ : $\\mu_{1}$ - $\\mu_{2}$ $\\neq$ 0<br>\n",
    "\n",
    "The null hypothesis $H_{0}$ : There is no significant difference in average response time of the congruent and incongruent tests.<br>\n",
    "The alternative hypothesis $H_{A}$ : There is a significant difference in average response time of the congruent and incongruent tests.<br>\n",
    "\n",
    "### Statistical tests\n",
    "Dependent t-test is appropriate for these paired samples because the same group of people were involved in 2 different conditions.<br>\n",
    "Z-test is not appropriate in this study as we do not know their population parameters."
   ]
  },
  {
   "cell_type": "markdown",
   "metadata": {},
   "source": [
    "## 3. Report some descriptive statistics regarding this dataset. Include at least one measure of central tendency and at least one measure of variability.\n",
    "\n",
    "### Central Tendency\n",
    "\n"
   ]
  },
  {
   "cell_type": "code",
   "execution_count": 4,
   "metadata": {
    "collapsed": false
   },
   "outputs": [
    {
     "data": {
      "text/html": [
       "<div>\n",
       "<table border=\"1\" class=\"dataframe\">\n",
       "  <thead>\n",
       "    <tr style=\"text-align: right;\">\n",
       "      <th></th>\n",
       "      <th>Congruent</th>\n",
       "      <th>Incongruent</th>\n",
       "      <th>Difference(C-I)</th>\n",
       "    </tr>\n",
       "  </thead>\n",
       "  <tbody>\n",
       "    <tr>\n",
       "      <th>count</th>\n",
       "      <td>24.000000</td>\n",
       "      <td>24.000000</td>\n",
       "      <td>24.000000</td>\n",
       "    </tr>\n",
       "    <tr>\n",
       "      <th>mean</th>\n",
       "      <td>14.051125</td>\n",
       "      <td>22.015917</td>\n",
       "      <td>-7.964792</td>\n",
       "    </tr>\n",
       "    <tr>\n",
       "      <th>std</th>\n",
       "      <td>3.559358</td>\n",
       "      <td>4.797057</td>\n",
       "      <td>4.864827</td>\n",
       "    </tr>\n",
       "    <tr>\n",
       "      <th>min</th>\n",
       "      <td>8.630000</td>\n",
       "      <td>15.687000</td>\n",
       "      <td>-21.919000</td>\n",
       "    </tr>\n",
       "    <tr>\n",
       "      <th>25%</th>\n",
       "      <td>11.895250</td>\n",
       "      <td>18.716750</td>\n",
       "      <td>-10.258500</td>\n",
       "    </tr>\n",
       "    <tr>\n",
       "      <th>50%</th>\n",
       "      <td>14.356500</td>\n",
       "      <td>21.017500</td>\n",
       "      <td>-7.666500</td>\n",
       "    </tr>\n",
       "    <tr>\n",
       "      <th>75%</th>\n",
       "      <td>16.200750</td>\n",
       "      <td>24.051500</td>\n",
       "      <td>-3.645500</td>\n",
       "    </tr>\n",
       "    <tr>\n",
       "      <th>max</th>\n",
       "      <td>22.328000</td>\n",
       "      <td>35.255000</td>\n",
       "      <td>-1.950000</td>\n",
       "    </tr>\n",
       "  </tbody>\n",
       "</table>\n",
       "</div>"
      ],
      "text/plain": [
       "       Congruent  Incongruent  Difference(C-I)\n",
       "count  24.000000    24.000000        24.000000\n",
       "mean   14.051125    22.015917        -7.964792\n",
       "std     3.559358     4.797057         4.864827\n",
       "min     8.630000    15.687000       -21.919000\n",
       "25%    11.895250    18.716750       -10.258500\n",
       "50%    14.356500    21.017500        -7.666500\n",
       "75%    16.200750    24.051500        -3.645500\n",
       "max    22.328000    35.255000        -1.950000"
      ]
     },
     "execution_count": 4,
     "metadata": {},
     "output_type": "execute_result"
    }
   ],
   "source": [
    "stroopdata.describe()"
   ]
  },
  {
   "cell_type": "markdown",
   "metadata": {
    "collapsed": true
   },
   "source": [
    "* Mean: &nbsp;&nbsp;&nbsp;&nbsp; $\\bar{x}_{c}$ = 14.05 &nbsp;&nbsp;&nbsp;&nbsp; $\\bar{x}_{c}$ = 22.02\n",
    "* Median: &nbsp;&nbsp;&nbsp;&nbsp; $C_{median}$ = 14.36 &nbsp;&nbsp;&nbsp;&nbsp; $I_{median}$ = 21.02\n",
    "* Mode: There is no mode because every cell has unique time value."
   ]
  },
  {
   "cell_type": "markdown",
   "metadata": {},
   "source": [
    "### Variability"
   ]
  },
  {
   "cell_type": "markdown",
   "metadata": {},
   "source": [
    "C = Congruent &nbsp;&nbsp;&nbsp;&nbsp; I = Incongruent"
   ]
  },
  {
   "cell_type": "markdown",
   "metadata": {
    "collapsed": true
   },
   "source": [
    "* Range: Maximum - Minimum <br> &nbsp;&nbsp;&nbsp;&nbsp; $C_{range}$ = 22.33 - 8.63 = 13.7 &nbsp;&nbsp;&nbsp;&nbsp; $I_{range}$ = \t35.26 - 15.69 = 19.57\n",
    "* Inner Quartile Range (IQR): $3^{rd}$ quartile - $1^{rd}$ quartile <br> &nbsp;&nbsp;&nbsp;&nbsp; $C_{IQR}$ = 16.20 - 11.90 = 4.3 &nbsp;&nbsp;&nbsp;&nbsp; $I_{IQR}$ = 24.05 - 18.72 = 5.33\n",
    "* Standard Deviation: s <br> &nbsp;&nbsp;&nbsp;&nbsp; $C_{std}$ = \t3.56 &nbsp;&nbsp;&nbsp;&nbsp; $I_{std}$ = 4.80\n",
    "* Variance: $s^2$<br> &nbsp;&nbsp;&nbsp;&nbsp; $C_{Variance}$ = 12.67 &nbsp;&nbsp;&nbsp;&nbsp; $I_{Variance}$ = 23.01"
   ]
  },
  {
   "cell_type": "markdown",
   "metadata": {},
   "source": [
    "## 4. Provide one or two visualizations that show the distribution of the sample data. Write one or two sentences noting what you observe about the plot or plots."
   ]
  },
  {
   "cell_type": "code",
   "execution_count": 5,
   "metadata": {
    "collapsed": false
   },
   "outputs": [
    {
     "data": {
      "image/png": "[encoded data removed]",
      "text/plain": [
       "<matplotlib.figure.Figure at 0x212b739fef0>"
      ]
     },
     "metadata": {},
     "output_type": "display_data"
    }
   ],
   "source": [
    "# Create a box plot\n",
    "stroopdata_original = pd.read_csv(path + \"/stroopdata.csv\")\n",
    "color = dict(boxes='DarkGreen', whiskers='DarkOrange', medians='DarkBlue', caps='Gray')\n",
    "aes = stroopdata_original.plot(kind = 'box', color=color, showmeans=True)\n",
    "aes.set(xlabel='Congruency', ylabel='Time (sec)')\n",
    "plt.show()"
   ]
  },
  {
   "cell_type": "markdown",
   "metadata": {},
   "source": [
    "From the box plot, we can clearly see that IQR, mean and median of incongruent test time duration are much higher than congruent test time duration's statistical values. Incongruent test result also has some outliers and if we remove them, congruent test result's maximum value and maximum value of incongruent test result are relatively close."
   ]
  },
  {
   "cell_type": "code",
   "execution_count": 6,
   "metadata": {
    "collapsed": false
   },
   "outputs": [
    {
     "data": {
      "image/png": "[encoded data removed]",
      "text/plain": [
       "<matplotlib.figure.Figure at 0x212b7827cc0>"
      ]
     },
     "metadata": {},
     "output_type": "display_data"
    }
   ],
   "source": [
    "# Divide the dataset\n",
    "data1 = stroopdata['Congruent']\n",
    "data2 = stroopdata['Incongruent']\n",
    "\n",
    "# Create 20 bins between the minimum and maximum values\n",
    "bins = np.linspace(min(data1), max(data2), 20)\n",
    "\n",
    "# Plot a histogram of congruent test result\n",
    "plt.hist(data1, bins=bins, alpha=0.5, color='#EDD834', label='Congruent')\n",
    "\n",
    "# Plot a histogram of incongruent test result\n",
    "plt.hist(data2, bins=bins, alpha=0.5, color='#887E43', label='Incongruent')\n",
    "\n",
    "# Set the y boundaries of the figure\n",
    "plt.ylim([0, 8])\n",
    "\n",
    "# Set the title and labels\n",
    "plt.title('Histogram of Congruency Test')\n",
    "plt.xlabel('Time spent')\n",
    "plt.ylabel('Count')\n",
    "plt.legend(loc='upper right')\n",
    "plt.grid(True)\n",
    "\n",
    "plt.show()"
   ]
  },
  {
   "cell_type": "markdown",
   "metadata": {},
   "source": [
    "The congrugent and incongrugent test histograms show a right skewed distribution and have a little bit of overlap."
   ]
  },
  {
   "cell_type": "markdown",
   "metadata": {},
   "source": [
    "## 5. Now, perform the statistical test and report your results. What is your confidence level and your critical statistic value? Do you reject the null hypothesis or fail to reject it? Come to a conclusion in terms of the experiment task. Did the results match up with your expectations?"
   ]
  },
  {
   "cell_type": "markdown",
   "metadata": {},
   "source": [
    "### Standard Deviation of the difference\n",
    "$\\sqrt{(\\sum(x_{i}-\\bar{x})^2)/(n-1)}$ <br>  n-1 = Degree of Freedom = 23 <br>\n",
    "This formula was used to find SD of each column."
   ]
  },
  {
   "cell_type": "code",
   "execution_count": 7,
   "metadata": {
    "collapsed": false
   },
   "outputs": [
    {
     "data": {
      "text/html": [
       "<div>\n",
       "<table border=\"1\" class=\"dataframe\">\n",
       "  <thead>\n",
       "    <tr style=\"text-align: right;\">\n",
       "      <th></th>\n",
       "      <th>Congruent</th>\n",
       "      <th>Incongruent</th>\n",
       "      <th>Difference(C-I)</th>\n",
       "    </tr>\n",
       "  </thead>\n",
       "  <tbody>\n",
       "    <tr>\n",
       "      <th>count</th>\n",
       "      <td>24.000000</td>\n",
       "      <td>24.000000</td>\n",
       "      <td>24.000000</td>\n",
       "    </tr>\n",
       "    <tr>\n",
       "      <th>mean</th>\n",
       "      <td>14.051125</td>\n",
       "      <td>22.015917</td>\n",
       "      <td>-7.964792</td>\n",
       "    </tr>\n",
       "    <tr>\n",
       "      <th>std</th>\n",
       "      <td>3.559358</td>\n",
       "      <td>4.797057</td>\n",
       "      <td>4.864827</td>\n",
       "    </tr>\n",
       "    <tr>\n",
       "      <th>min</th>\n",
       "      <td>8.630000</td>\n",
       "      <td>15.687000</td>\n",
       "      <td>-21.919000</td>\n",
       "    </tr>\n",
       "    <tr>\n",
       "      <th>25%</th>\n",
       "      <td>11.895250</td>\n",
       "      <td>18.716750</td>\n",
       "      <td>-10.258500</td>\n",
       "    </tr>\n",
       "    <tr>\n",
       "      <th>50%</th>\n",
       "      <td>14.356500</td>\n",
       "      <td>21.017500</td>\n",
       "      <td>-7.666500</td>\n",
       "    </tr>\n",
       "    <tr>\n",
       "      <th>75%</th>\n",
       "      <td>16.200750</td>\n",
       "      <td>24.051500</td>\n",
       "      <td>-3.645500</td>\n",
       "    </tr>\n",
       "    <tr>\n",
       "      <th>max</th>\n",
       "      <td>22.328000</td>\n",
       "      <td>35.255000</td>\n",
       "      <td>-1.950000</td>\n",
       "    </tr>\n",
       "  </tbody>\n",
       "</table>\n",
       "</div>"
      ],
      "text/plain": [
       "       Congruent  Incongruent  Difference(C-I)\n",
       "count  24.000000    24.000000        24.000000\n",
       "mean   14.051125    22.015917        -7.964792\n",
       "std     3.559358     4.797057         4.864827\n",
       "min     8.630000    15.687000       -21.919000\n",
       "25%    11.895250    18.716750       -10.258500\n",
       "50%    14.356500    21.017500        -7.666500\n",
       "75%    16.200750    24.051500        -3.645500\n",
       "max    22.328000    35.255000        -1.950000"
      ]
     },
     "execution_count": 7,
     "metadata": {},
     "output_type": "execute_result"
    }
   ],
   "source": [
    "stroopdata.describe()"
   ]
  },
  {
   "cell_type": "markdown",
   "metadata": {},
   "source": [
    "SD of Difference(C-I) is around **4.865**."
   ]
  },
  {
   "cell_type": "markdown",
   "metadata": {},
   "source": [
    "### T Statistics\n",
    "Since s(standard deviation of sample) was found, t-statistics can be calculated for the difference by using below equation.<br>\n",
    "t = ($\\bar{x}_{c}$ -$\\bar{x}_{i}$)/($s/\\sqrt{n}$)<br>\n",
    "Point Estimate = $\\bar{x}_{c}$-$\\bar{x}_{i}$<br>\n",
    "Standard Error = $s/\\sqrt{n}$ <br>\n",
    "t = -7.964792 / (4.864827/$\\sqrt{24}$)<br>\n",
    "t = -8.020707132 = -8.021"
   ]
  },
  {
   "cell_type": "markdown",
   "metadata": {},
   "source": [
    "### T-Critical value\n",
    "Based on my previous analysis, I am very confident that there is a significant difference between congruent and incongruent test result. <br> \n",
    "$H_{A}$ : $\\mu_{1}$ - $\\mu_{2}$ $\\neq$ 0<br>\n",
    "So the confidence level is 99% and $\\alpha$ = .01 <br>\n",
    "T-critical value for two-tailed t-test = ±2.807"
   ]
  },
  {
   "cell_type": "markdown",
   "metadata": {},
   "source": [
    "### Conclusion\n",
    "T statistic falls in the critical region because |-8.021| is greater than |±2.807|.<br>\n",
    "In other words, the probability of __$\\mu_{1}$ - $\\mu_{2}$ = 0__ is less than 1%. <br>\n",
    "#### Therefore, we reject the null hypothesis."
   ]
  },
  {
   "cell_type": "markdown",
   "metadata": {},
   "source": [
    "## 6. What do you think is responsible for the effects observed? Can you think of an alternative or similar task that would result in a similar effect?"
   ]
  },
  {
   "cell_type": "markdown",
   "metadata": {},
   "source": [
    "Brain structures underlying the fundamental cognitive operations are responsible for the stroop effect. When both word and color information is imprinted on our brain, interference arises because word reading and color naming activities are simulataneously processed. Cognitive processing is the most visible in situations of conflict. A similar task we can try is to count digits which do not match with the number of the digit. e.g. count 5 5 5 5"
   ]
  },
  {
   "cell_type": "markdown",
   "metadata": {},
   "source": [
    "## References\n",
    "MacLeod, C. M. & MacDonald, P. A., 2000. Interdimensional interference in the Stroop effect: uncovering the cognitive and neural anatomy of attention. Trends in Cognitive Sciences, 1 11, 4(11), p. 407."
   ]
  }
 ],
 "metadata": {
  "kernelspec": {
   "display_name": "Python 3",
   "language": "python",
   "name": "python3"
  },
  "language_info": {
   "codemirror_mode": {
    "name": "ipython",
    "version": 3
   },
   "file_extension": ".py",
   "mimetype": "text/x-python",
   "name": "python",
   "nbconvert_exporter": "python",
   "pygments_lexer": "ipython3",
   "version": "3.6.0"
  }
 },
 "nbformat": 4,
 "nbformat_minor": 2
}
